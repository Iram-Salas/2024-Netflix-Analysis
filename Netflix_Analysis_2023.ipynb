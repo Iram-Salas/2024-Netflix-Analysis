{
 "cells": [
  {
   "cell_type": "markdown",
   "metadata": {},
   "source": [
    "# Netflix Analysis"
   ]
  },
  {
   "cell_type": "code",
   "execution_count": 1,
   "metadata": {},
   "outputs": [],
   "source": [
    "import pandas as pd\n",
    "import numpy as np"
   ]
  },
  {
   "cell_type": "code",
   "execution_count": 2,
   "metadata": {},
   "outputs": [
    {
     "data": {
      "text/html": [
       "<div>\n",
       "<style scoped>\n",
       "    .dataframe tbody tr th:only-of-type {\n",
       "        vertical-align: middle;\n",
       "    }\n",
       "\n",
       "    .dataframe tbody tr th {\n",
       "        vertical-align: top;\n",
       "    }\n",
       "\n",
       "    .dataframe thead th {\n",
       "        text-align: right;\n",
       "    }\n",
       "</style>\n",
       "<table border=\"1\" class=\"dataframe\">\n",
       "  <thead>\n",
       "    <tr style=\"text-align: right;\">\n",
       "      <th></th>\n",
       "      <th>Profile Name</th>\n",
       "      <th>Start Time</th>\n",
       "      <th>Duration</th>\n",
       "      <th>Attributes</th>\n",
       "      <th>Title</th>\n",
       "      <th>Supplemental Video Type</th>\n",
       "      <th>Device Type</th>\n",
       "      <th>Bookmark</th>\n",
       "      <th>Latest Bookmark</th>\n",
       "      <th>Country</th>\n",
       "    </tr>\n",
       "  </thead>\n",
       "  <tbody>\n",
       "    <tr>\n",
       "      <th>0</th>\n",
       "      <td>Alex</td>\n",
       "      <td>4/2/2014 15:36</td>\n",
       "      <td>0:07:27</td>\n",
       "      <td>NaN</td>\n",
       "      <td>3</td>\n",
       "      <td>NaN</td>\n",
       "      <td>Apple iPad mini</td>\n",
       "      <td>1:59:10</td>\n",
       "      <td>1:59:10</td>\n",
       "      <td>US (United States)</td>\n",
       "    </tr>\n",
       "    <tr>\n",
       "      <th>1</th>\n",
       "      <td>Alex</td>\n",
       "      <td>6/4/2022 3:49</td>\n",
       "      <td>2:01:07</td>\n",
       "      <td>NaN</td>\n",
       "      <td>42</td>\n",
       "      <td>NaN</td>\n",
       "      <td>TCL Malone HDR10 Smart TV</td>\n",
       "      <td>2:01:07</td>\n",
       "      <td>2:01:07</td>\n",
       "      <td>US (United States)</td>\n",
       "    </tr>\n",
       "    <tr>\n",
       "      <th>2</th>\n",
       "      <td>Alex</td>\n",
       "      <td>12/18/2018 22:25</td>\n",
       "      <td>0:16:51</td>\n",
       "      <td>NaN</td>\n",
       "      <td>42</td>\n",
       "      <td>NaN</td>\n",
       "      <td>DefaultWidevineAndroidPhone</td>\n",
       "      <td>2:00:27</td>\n",
       "      <td>Not latest view</td>\n",
       "      <td>US (United States)</td>\n",
       "    </tr>\n",
       "    <tr>\n",
       "      <th>3</th>\n",
       "      <td>Alex</td>\n",
       "      <td>12/18/2018 22:05</td>\n",
       "      <td>0:13:55</td>\n",
       "      <td>NaN</td>\n",
       "      <td>42</td>\n",
       "      <td>NaN</td>\n",
       "      <td>DefaultWidevineAndroidPhone</td>\n",
       "      <td>1:43:54</td>\n",
       "      <td>Not latest view</td>\n",
       "      <td>US (United States)</td>\n",
       "    </tr>\n",
       "    <tr>\n",
       "      <th>4</th>\n",
       "      <td>Alex</td>\n",
       "      <td>12/18/2018 21:58</td>\n",
       "      <td>0:04:01</td>\n",
       "      <td>NaN</td>\n",
       "      <td>42</td>\n",
       "      <td>NaN</td>\n",
       "      <td>DefaultWidevineAndroidPhone</td>\n",
       "      <td>1:30:05</td>\n",
       "      <td>Not latest view</td>\n",
       "      <td>US (United States)</td>\n",
       "    </tr>\n",
       "    <tr>\n",
       "      <th>5</th>\n",
       "      <td>Alex</td>\n",
       "      <td>12/18/2018 21:57</td>\n",
       "      <td>0:00:15</td>\n",
       "      <td>NaN</td>\n",
       "      <td>42</td>\n",
       "      <td>NaN</td>\n",
       "      <td>DefaultWidevineAndroidPhone</td>\n",
       "      <td>1:28:34</td>\n",
       "      <td>Not latest view</td>\n",
       "      <td>US (United States)</td>\n",
       "    </tr>\n",
       "    <tr>\n",
       "      <th>6</th>\n",
       "      <td>Alex</td>\n",
       "      <td>12/18/2018 19:48</td>\n",
       "      <td>0:23:32</td>\n",
       "      <td>Autoplayed: user action: Unspecified;</td>\n",
       "      <td>42</td>\n",
       "      <td>NaN</td>\n",
       "      <td>Chrome OS (Cadmium)</td>\n",
       "      <td>1:28:44</td>\n",
       "      <td>Not latest view</td>\n",
       "      <td>US (United States)</td>\n",
       "    </tr>\n",
       "    <tr>\n",
       "      <th>7</th>\n",
       "      <td>Alex</td>\n",
       "      <td>12/18/2018 15:23</td>\n",
       "      <td>1:05:15</td>\n",
       "      <td>Autoplayed: user action: Unspecified;</td>\n",
       "      <td>42</td>\n",
       "      <td>NaN</td>\n",
       "      <td>Chrome OS (Cadmium)</td>\n",
       "      <td>1:05:15</td>\n",
       "      <td>Not latest view</td>\n",
       "      <td>US (United States)</td>\n",
       "    </tr>\n",
       "    <tr>\n",
       "      <th>8</th>\n",
       "      <td>Alex</td>\n",
       "      <td>7/12/2023 1:50</td>\n",
       "      <td>1:27:06</td>\n",
       "      <td>NaN</td>\n",
       "      <td>65</td>\n",
       "      <td>NaN</td>\n",
       "      <td>Firefox PC (Cadmium)</td>\n",
       "      <td>1:27:06</td>\n",
       "      <td>1:27:06</td>\n",
       "      <td>US (United States)</td>\n",
       "    </tr>\n",
       "    <tr>\n",
       "      <th>9</th>\n",
       "      <td>Alex</td>\n",
       "      <td>7/9/2023 22:22</td>\n",
       "      <td>0:00:04</td>\n",
       "      <td>Autoplayed: user action: None;</td>\n",
       "      <td>65</td>\n",
       "      <td>NaN</td>\n",
       "      <td>Amazon TVAFTBL Smart TV</td>\n",
       "      <td>0:00:04</td>\n",
       "      <td>Not latest view</td>\n",
       "      <td>US (United States)</td>\n",
       "    </tr>\n",
       "  </tbody>\n",
       "</table>\n",
       "</div>"
      ],
      "text/plain": [
       "  Profile Name        Start Time Duration  \\\n",
       "0         Alex    4/2/2014 15:36  0:07:27   \n",
       "1         Alex     6/4/2022 3:49  2:01:07   \n",
       "2         Alex  12/18/2018 22:25  0:16:51   \n",
       "3         Alex  12/18/2018 22:05  0:13:55   \n",
       "4         Alex  12/18/2018 21:58  0:04:01   \n",
       "5         Alex  12/18/2018 21:57  0:00:15   \n",
       "6         Alex  12/18/2018 19:48  0:23:32   \n",
       "7         Alex  12/18/2018 15:23  1:05:15   \n",
       "8         Alex    7/12/2023 1:50  1:27:06   \n",
       "9         Alex    7/9/2023 22:22  0:00:04   \n",
       "\n",
       "                               Attributes Title Supplemental Video Type  \\\n",
       "0                                     NaN     3                     NaN   \n",
       "1                                     NaN    42                     NaN   \n",
       "2                                     NaN    42                     NaN   \n",
       "3                                     NaN    42                     NaN   \n",
       "4                                     NaN    42                     NaN   \n",
       "5                                     NaN    42                     NaN   \n",
       "6  Autoplayed: user action: Unspecified;     42                     NaN   \n",
       "7  Autoplayed: user action: Unspecified;     42                     NaN   \n",
       "8                                     NaN    65                     NaN   \n",
       "9         Autoplayed: user action: None;     65                     NaN   \n",
       "\n",
       "                   Device Type Bookmark  Latest Bookmark             Country  \n",
       "0              Apple iPad mini  1:59:10          1:59:10  US (United States)  \n",
       "1    TCL Malone HDR10 Smart TV  2:01:07          2:01:07  US (United States)  \n",
       "2  DefaultWidevineAndroidPhone  2:00:27  Not latest view  US (United States)  \n",
       "3  DefaultWidevineAndroidPhone  1:43:54  Not latest view  US (United States)  \n",
       "4  DefaultWidevineAndroidPhone  1:30:05  Not latest view  US (United States)  \n",
       "5  DefaultWidevineAndroidPhone  1:28:34  Not latest view  US (United States)  \n",
       "6          Chrome OS (Cadmium)  1:28:44  Not latest view  US (United States)  \n",
       "7          Chrome OS (Cadmium)  1:05:15  Not latest view  US (United States)  \n",
       "8         Firefox PC (Cadmium)  1:27:06          1:27:06  US (United States)  \n",
       "9      Amazon TVAFTBL Smart TV  0:00:04  Not latest view  US (United States)  "
      ]
     },
     "execution_count": 2,
     "metadata": {},
     "output_type": "execute_result"
    }
   ],
   "source": [
    "df = pd.read_csv('ViewingActivity.csv')\n",
    "df.head(10)"
   ]
  },
  {
   "cell_type": "code",
   "execution_count": 3,
   "metadata": {},
   "outputs": [
    {
     "name": "stdout",
     "output_type": "stream",
     "text": [
      "<class 'pandas.core.frame.DataFrame'>\n",
      "RangeIndex: 42959 entries, 0 to 42958\n",
      "Data columns (total 10 columns):\n",
      " #   Column                   Non-Null Count  Dtype \n",
      "---  ------                   --------------  ----- \n",
      " 0   Profile Name             42959 non-null  object\n",
      " 1   Start Time               42959 non-null  object\n",
      " 2   Duration                 42959 non-null  object\n",
      " 3   Attributes               9453 non-null   object\n",
      " 4   Title                    42959 non-null  object\n",
      " 5   Supplemental Video Type  2681 non-null   object\n",
      " 6   Device Type              42959 non-null  object\n",
      " 7   Bookmark                 42959 non-null  object\n",
      " 8   Latest Bookmark          42959 non-null  object\n",
      " 9   Country                  42959 non-null  object\n",
      "dtypes: object(10)\n",
      "memory usage: 3.3+ MB\n"
     ]
    }
   ],
   "source": [
    "df.info()"
   ]
  },
  {
   "cell_type": "markdown",
   "metadata": {},
   "source": [
    "#### Explore columns"
   ]
  },
  {
   "cell_type": "code",
   "execution_count": 4,
   "metadata": {},
   "outputs": [
    {
     "data": {
      "text/plain": [
       "Autoplayed: user action: None;                                        6347\n",
       "Autoplayed: user action: Unspecified;                                 1603\n",
       "Autoplayed: user action: User_Interaction;                            1453\n",
       "Has branched playback;                                                  42\n",
       "Has branched playback; Autoplayed: user action: User_Interaction;        4\n",
       "Autoplayed: user action: Visibility_Timeout;                             2\n",
       "Has branched playback; Autoplayed: user action: None;                    1\n",
       "Has branched playback; Autoplayed: user action: Unspecified;             1\n",
       "Name: Attributes, dtype: int64"
      ]
     },
     "execution_count": 4,
     "metadata": {},
     "output_type": "execute_result"
    }
   ],
   "source": [
    "df['Attributes'].value_counts()"
   ]
  },
  {
   "cell_type": "code",
   "execution_count": 5,
   "metadata": {},
   "outputs": [
    {
     "data": {
      "text/plain": [
       "Hotel Transylvania 2                                                  69\n",
       "Spirit: Stallion of the Cimarron                                      68\n",
       "Minions                                                               53\n",
       "La Leyenda de la Llorona                                              50\n",
       "Franco Escamilla: Bienvenido al mundo                                 41\n",
       "                                                                      ..\n",
       "Bones: Season 4: The Perfect Pieces in the Purple Pond (Episode 5)     1\n",
       "A Walk Among the Tombstones_hook_06_16x9                               1\n",
       "La Familia P. Luche: Season 2: Episode 4                               1\n",
       "The Fat Boy Chronicles                                                 1\n",
       "Gigantosaurus: Season 1: Giganto's Laugh (Episode 19)                  1\n",
       "Name: Title, Length: 19020, dtype: int64"
      ]
     },
     "execution_count": 5,
     "metadata": {},
     "output_type": "execute_result"
    }
   ],
   "source": [
    "df['Title'].value_counts()"
   ]
  },
  {
   "cell_type": "code",
   "execution_count": 6,
   "metadata": {},
   "outputs": [
    {
     "data": {
      "text/plain": [
       "Chrome PC (Cadmium)            10547\n",
       "TCL Malone HDR10 Smart TV       5882\n",
       "PC                              3390\n",
       "Apple iPad mini                 2665\n",
       "DefaultWidevineAndroidPhone     2096\n",
       "                               ...  \n",
       "Edge (Cadmium)                     2\n",
       "iPad Air 2 Cellular                2\n",
       "LG 2012 MTK Smart TV               2\n",
       "Apple iPhone 3GS                   1\n",
       "iPad Air Wi-Fi                     1\n",
       "Name: Device Type, Length: 64, dtype: int64"
      ]
     },
     "execution_count": 6,
     "metadata": {},
     "output_type": "execute_result"
    }
   ],
   "source": [
    "df['Device Type'].value_counts()"
   ]
  },
  {
   "cell_type": "markdown",
   "metadata": {},
   "source": [
    "### Data Cleaning"
   ]
  },
  {
   "cell_type": "markdown",
   "metadata": {},
   "source": [
    "Drop columns we will not need\n",
    "\n",
    "*  Attributes\n",
    "*  Bookmark\n",
    "*  Latest Bookmark\n",
    "*  Country"
   ]
  },
  {
   "cell_type": "code",
   "execution_count": 7,
   "metadata": {},
   "outputs": [
    {
     "name": "stdout",
     "output_type": "stream",
     "text": [
      "<class 'pandas.core.frame.DataFrame'>\n",
      "RangeIndex: 42959 entries, 0 to 42958\n",
      "Data columns (total 7 columns):\n",
      " #   Column                   Non-Null Count  Dtype \n",
      "---  ------                   --------------  ----- \n",
      " 0   Profile Name             42959 non-null  object\n",
      " 1   Start Time               42959 non-null  object\n",
      " 2   Duration                 42959 non-null  object\n",
      " 3   Title                    42959 non-null  object\n",
      " 4   Supplemental Video Type  2681 non-null   object\n",
      " 5   Device Type              42959 non-null  object\n",
      " 6   Country                  42959 non-null  object\n",
      "dtypes: object(7)\n",
      "memory usage: 2.3+ MB\n"
     ]
    }
   ],
   "source": [
    "df = df.drop(['Attributes','Bookmark','Latest Bookmark'], axis=1)\n",
    "df.info()"
   ]
  },
  {
   "cell_type": "markdown",
   "metadata": {},
   "source": [
    "Change column types\n",
    "*  Start time to datetime datatype"
   ]
  },
  {
   "cell_type": "code",
   "execution_count": 8,
   "metadata": {},
   "outputs": [
    {
     "data": {
      "text/plain": [
       "Profile Name                            object\n",
       "Start Time                 datetime64[ns, UTC]\n",
       "Duration                                object\n",
       "Title                                   object\n",
       "Supplemental Video Type                 object\n",
       "Device Type                             object\n",
       "Country                                 object\n",
       "dtype: object"
      ]
     },
     "execution_count": 8,
     "metadata": {},
     "output_type": "execute_result"
    }
   ],
   "source": [
    "df['Start Time'] = pd.to_datetime(df['Start Time'], utc=True)\n",
    "df.dtypes"
   ]
  },
  {
   "cell_type": "markdown",
   "metadata": {},
   "source": [
    "### Add Time columns\n",
    "*  Day Name\n",
    "*  Month\n",
    "*  Duration in seconds"
   ]
  },
  {
   "cell_type": "code",
   "execution_count": 9,
   "metadata": {},
   "outputs": [
    {
     "data": {
      "text/html": [
       "<div>\n",
       "<style scoped>\n",
       "    .dataframe tbody tr th:only-of-type {\n",
       "        vertical-align: middle;\n",
       "    }\n",
       "\n",
       "    .dataframe tbody tr th {\n",
       "        vertical-align: top;\n",
       "    }\n",
       "\n",
       "    .dataframe thead th {\n",
       "        text-align: right;\n",
       "    }\n",
       "</style>\n",
       "<table border=\"1\" class=\"dataframe\">\n",
       "  <thead>\n",
       "    <tr style=\"text-align: right;\">\n",
       "      <th></th>\n",
       "      <th>Profile Name</th>\n",
       "      <th>Start Time</th>\n",
       "      <th>Duration</th>\n",
       "      <th>Title</th>\n",
       "      <th>Supplemental Video Type</th>\n",
       "      <th>Device Type</th>\n",
       "      <th>Country</th>\n",
       "      <th>Day Name</th>\n",
       "      <th>Month</th>\n",
       "    </tr>\n",
       "  </thead>\n",
       "  <tbody>\n",
       "    <tr>\n",
       "      <th>0</th>\n",
       "      <td>Alex</td>\n",
       "      <td>2014-04-02 15:36:00+00:00</td>\n",
       "      <td>0:07:27</td>\n",
       "      <td>3</td>\n",
       "      <td>NaN</td>\n",
       "      <td>Apple iPad mini</td>\n",
       "      <td>US (United States)</td>\n",
       "      <td>Wednesday</td>\n",
       "      <td>April</td>\n",
       "    </tr>\n",
       "    <tr>\n",
       "      <th>1</th>\n",
       "      <td>Alex</td>\n",
       "      <td>2022-06-04 03:49:00+00:00</td>\n",
       "      <td>2:01:07</td>\n",
       "      <td>42</td>\n",
       "      <td>NaN</td>\n",
       "      <td>TCL Malone HDR10 Smart TV</td>\n",
       "      <td>US (United States)</td>\n",
       "      <td>Saturday</td>\n",
       "      <td>June</td>\n",
       "    </tr>\n",
       "    <tr>\n",
       "      <th>2</th>\n",
       "      <td>Alex</td>\n",
       "      <td>2018-12-18 22:25:00+00:00</td>\n",
       "      <td>0:16:51</td>\n",
       "      <td>42</td>\n",
       "      <td>NaN</td>\n",
       "      <td>DefaultWidevineAndroidPhone</td>\n",
       "      <td>US (United States)</td>\n",
       "      <td>Tuesday</td>\n",
       "      <td>December</td>\n",
       "    </tr>\n",
       "    <tr>\n",
       "      <th>3</th>\n",
       "      <td>Alex</td>\n",
       "      <td>2018-12-18 22:05:00+00:00</td>\n",
       "      <td>0:13:55</td>\n",
       "      <td>42</td>\n",
       "      <td>NaN</td>\n",
       "      <td>DefaultWidevineAndroidPhone</td>\n",
       "      <td>US (United States)</td>\n",
       "      <td>Tuesday</td>\n",
       "      <td>December</td>\n",
       "    </tr>\n",
       "    <tr>\n",
       "      <th>4</th>\n",
       "      <td>Alex</td>\n",
       "      <td>2018-12-18 21:58:00+00:00</td>\n",
       "      <td>0:04:01</td>\n",
       "      <td>42</td>\n",
       "      <td>NaN</td>\n",
       "      <td>DefaultWidevineAndroidPhone</td>\n",
       "      <td>US (United States)</td>\n",
       "      <td>Tuesday</td>\n",
       "      <td>December</td>\n",
       "    </tr>\n",
       "  </tbody>\n",
       "</table>\n",
       "</div>"
      ],
      "text/plain": [
       "  Profile Name                Start Time Duration Title  \\\n",
       "0         Alex 2014-04-02 15:36:00+00:00  0:07:27     3   \n",
       "1         Alex 2022-06-04 03:49:00+00:00  2:01:07    42   \n",
       "2         Alex 2018-12-18 22:25:00+00:00  0:16:51    42   \n",
       "3         Alex 2018-12-18 22:05:00+00:00  0:13:55    42   \n",
       "4         Alex 2018-12-18 21:58:00+00:00  0:04:01    42   \n",
       "\n",
       "  Supplemental Video Type                  Device Type             Country  \\\n",
       "0                     NaN              Apple iPad mini  US (United States)   \n",
       "1                     NaN    TCL Malone HDR10 Smart TV  US (United States)   \n",
       "2                     NaN  DefaultWidevineAndroidPhone  US (United States)   \n",
       "3                     NaN  DefaultWidevineAndroidPhone  US (United States)   \n",
       "4                     NaN  DefaultWidevineAndroidPhone  US (United States)   \n",
       "\n",
       "    Day Name     Month  \n",
       "0  Wednesday     April  \n",
       "1   Saturday      June  \n",
       "2    Tuesday  December  \n",
       "3    Tuesday  December  \n",
       "4    Tuesday  December  "
      ]
     },
     "execution_count": 9,
     "metadata": {},
     "output_type": "execute_result"
    }
   ],
   "source": [
    "df['Day Name'] = df['Start Time'].dt.day_name()\n",
    "df['Month'] = df['Start Time'].dt.month_name()\n",
    "\n",
    "df.head()\n"
   ]
  },
  {
   "cell_type": "markdown",
   "metadata": {},
   "source": [
    "##### Categorize day name and Create Seasonal column"
   ]
  },
  {
   "cell_type": "code",
   "execution_count": 10,
   "metadata": {},
   "outputs": [],
   "source": [
    "days = ['Monday','Tuesday','Wednesday','Thursday','Friday','Saturday','Sunday']\n",
    "\n",
    "df['Day Name'] = pd.Categorical(df['Day Name'], categories=days, ordered=True)"
   ]
  },
  {
   "cell_type": "code",
   "execution_count": 11,
   "metadata": {},
   "outputs": [],
   "source": [
    "# create function to add Season based on meteorological seasons\n",
    "# Spring: 3-5\n",
    "# Summer: 6-8\n",
    "# Autumn: 9-11\n",
    "# Winter: 12-2\n",
    "\n",
    "def season(data):\n",
    "    \"\"\"\n",
    "    data must be in timestamp format\n",
    "    \"\"\"\n",
    "    if data.month in [3,4,5]:\n",
    "        return 'spring'\n",
    "    if data.month in [6,7,8]:\n",
    "        return 'summer'\n",
    "    if data.month in [9,10,11]:\n",
    "        return 'autumn'\n",
    "    else:\n",
    "        return 'winter'"
   ]
  },
  {
   "cell_type": "code",
   "execution_count": 12,
   "metadata": {},
   "outputs": [
    {
     "data": {
      "text/html": [
       "<div>\n",
       "<style scoped>\n",
       "    .dataframe tbody tr th:only-of-type {\n",
       "        vertical-align: middle;\n",
       "    }\n",
       "\n",
       "    .dataframe tbody tr th {\n",
       "        vertical-align: top;\n",
       "    }\n",
       "\n",
       "    .dataframe thead th {\n",
       "        text-align: right;\n",
       "    }\n",
       "</style>\n",
       "<table border=\"1\" class=\"dataframe\">\n",
       "  <thead>\n",
       "    <tr style=\"text-align: right;\">\n",
       "      <th></th>\n",
       "      <th>Profile Name</th>\n",
       "      <th>Start Time</th>\n",
       "      <th>Duration</th>\n",
       "      <th>Title</th>\n",
       "      <th>Supplemental Video Type</th>\n",
       "      <th>Device Type</th>\n",
       "      <th>Country</th>\n",
       "      <th>Day Name</th>\n",
       "      <th>Month</th>\n",
       "      <th>Season</th>\n",
       "    </tr>\n",
       "  </thead>\n",
       "  <tbody>\n",
       "    <tr>\n",
       "      <th>0</th>\n",
       "      <td>Alex</td>\n",
       "      <td>2014-04-02 15:36:00+00:00</td>\n",
       "      <td>0:07:27</td>\n",
       "      <td>3</td>\n",
       "      <td>NaN</td>\n",
       "      <td>Apple iPad mini</td>\n",
       "      <td>US (United States)</td>\n",
       "      <td>Wednesday</td>\n",
       "      <td>April</td>\n",
       "      <td>spring</td>\n",
       "    </tr>\n",
       "    <tr>\n",
       "      <th>1</th>\n",
       "      <td>Alex</td>\n",
       "      <td>2022-06-04 03:49:00+00:00</td>\n",
       "      <td>2:01:07</td>\n",
       "      <td>42</td>\n",
       "      <td>NaN</td>\n",
       "      <td>TCL Malone HDR10 Smart TV</td>\n",
       "      <td>US (United States)</td>\n",
       "      <td>Saturday</td>\n",
       "      <td>June</td>\n",
       "      <td>summer</td>\n",
       "    </tr>\n",
       "    <tr>\n",
       "      <th>2</th>\n",
       "      <td>Alex</td>\n",
       "      <td>2018-12-18 22:25:00+00:00</td>\n",
       "      <td>0:16:51</td>\n",
       "      <td>42</td>\n",
       "      <td>NaN</td>\n",
       "      <td>DefaultWidevineAndroidPhone</td>\n",
       "      <td>US (United States)</td>\n",
       "      <td>Tuesday</td>\n",
       "      <td>December</td>\n",
       "      <td>winter</td>\n",
       "    </tr>\n",
       "    <tr>\n",
       "      <th>3</th>\n",
       "      <td>Alex</td>\n",
       "      <td>2018-12-18 22:05:00+00:00</td>\n",
       "      <td>0:13:55</td>\n",
       "      <td>42</td>\n",
       "      <td>NaN</td>\n",
       "      <td>DefaultWidevineAndroidPhone</td>\n",
       "      <td>US (United States)</td>\n",
       "      <td>Tuesday</td>\n",
       "      <td>December</td>\n",
       "      <td>winter</td>\n",
       "    </tr>\n",
       "    <tr>\n",
       "      <th>4</th>\n",
       "      <td>Alex</td>\n",
       "      <td>2018-12-18 21:58:00+00:00</td>\n",
       "      <td>0:04:01</td>\n",
       "      <td>42</td>\n",
       "      <td>NaN</td>\n",
       "      <td>DefaultWidevineAndroidPhone</td>\n",
       "      <td>US (United States)</td>\n",
       "      <td>Tuesday</td>\n",
       "      <td>December</td>\n",
       "      <td>winter</td>\n",
       "    </tr>\n",
       "  </tbody>\n",
       "</table>\n",
       "</div>"
      ],
      "text/plain": [
       "  Profile Name                Start Time Duration Title  \\\n",
       "0         Alex 2014-04-02 15:36:00+00:00  0:07:27     3   \n",
       "1         Alex 2022-06-04 03:49:00+00:00  2:01:07    42   \n",
       "2         Alex 2018-12-18 22:25:00+00:00  0:16:51    42   \n",
       "3         Alex 2018-12-18 22:05:00+00:00  0:13:55    42   \n",
       "4         Alex 2018-12-18 21:58:00+00:00  0:04:01    42   \n",
       "\n",
       "  Supplemental Video Type                  Device Type             Country  \\\n",
       "0                     NaN              Apple iPad mini  US (United States)   \n",
       "1                     NaN    TCL Malone HDR10 Smart TV  US (United States)   \n",
       "2                     NaN  DefaultWidevineAndroidPhone  US (United States)   \n",
       "3                     NaN  DefaultWidevineAndroidPhone  US (United States)   \n",
       "4                     NaN  DefaultWidevineAndroidPhone  US (United States)   \n",
       "\n",
       "    Day Name     Month  Season  \n",
       "0  Wednesday     April  spring  \n",
       "1   Saturday      June  summer  \n",
       "2    Tuesday  December  winter  \n",
       "3    Tuesday  December  winter  \n",
       "4    Tuesday  December  winter  "
      ]
     },
     "execution_count": 12,
     "metadata": {},
     "output_type": "execute_result"
    }
   ],
   "source": [
    "df['Season'] = df['Start Time'].apply(season)\n",
    "\n",
    "df.head()"
   ]
  },
  {
   "cell_type": "markdown",
   "metadata": {},
   "source": [
    "#### Change Duration to integer for seconds"
   ]
  },
  {
   "cell_type": "code",
   "execution_count": 13,
   "metadata": {},
   "outputs": [
    {
     "data": {
      "text/plain": [
       "Profile Name                            object\n",
       "Start Time                 datetime64[ns, UTC]\n",
       "Duration                       timedelta64[ns]\n",
       "Title                                   object\n",
       "Supplemental Video Type                 object\n",
       "Device Type                             object\n",
       "Country                                 object\n",
       "Day Name                              category\n",
       "Month                                   object\n",
       "Season                                  object\n",
       "dtype: object"
      ]
     },
     "execution_count": 13,
     "metadata": {},
     "output_type": "execute_result"
    }
   ],
   "source": [
    "df['Duration'] = pd.to_timedelta(df['Duration'])\n",
    "\n",
    "df.dtypes"
   ]
  },
  {
   "cell_type": "code",
   "execution_count": 14,
   "metadata": {},
   "outputs": [
    {
     "name": "stdout",
     "output_type": "stream",
     "text": [
      "682 days 11:22:32\n"
     ]
    }
   ],
   "source": [
    "total_time = df['Duration'].sum()\n",
    "print(total_time)"
   ]
  },
  {
   "cell_type": "markdown",
   "metadata": {},
   "source": [
    "Create total seconds column"
   ]
  },
  {
   "cell_type": "code",
   "execution_count": 15,
   "metadata": {},
   "outputs": [
    {
     "data": {
      "text/plain": [
       "Profile Name                            object\n",
       "Start Time                 datetime64[ns, UTC]\n",
       "Duration                       timedelta64[ns]\n",
       "Title                                   object\n",
       "Supplemental Video Type                 object\n",
       "Device Type                             object\n",
       "Country                                 object\n",
       "Day Name                              category\n",
       "Month                                   object\n",
       "Season                                  object\n",
       "Seconds                                  int32\n",
       "dtype: object"
      ]
     },
     "execution_count": 15,
     "metadata": {},
     "output_type": "execute_result"
    }
   ],
   "source": [
    "df['Seconds'] = df['Duration'].dt.total_seconds().astype(int)\n",
    "\n",
    "df.dtypes"
   ]
  },
  {
   "cell_type": "code",
   "execution_count": 16,
   "metadata": {},
   "outputs": [
    {
     "data": {
      "text/html": [
       "<div>\n",
       "<style scoped>\n",
       "    .dataframe tbody tr th:only-of-type {\n",
       "        vertical-align: middle;\n",
       "    }\n",
       "\n",
       "    .dataframe tbody tr th {\n",
       "        vertical-align: top;\n",
       "    }\n",
       "\n",
       "    .dataframe thead th {\n",
       "        text-align: right;\n",
       "    }\n",
       "</style>\n",
       "<table border=\"1\" class=\"dataframe\">\n",
       "  <thead>\n",
       "    <tr style=\"text-align: right;\">\n",
       "      <th></th>\n",
       "      <th>Profile Name</th>\n",
       "      <th>Start Time</th>\n",
       "      <th>Duration</th>\n",
       "      <th>Title</th>\n",
       "      <th>Supplemental Video Type</th>\n",
       "      <th>Device Type</th>\n",
       "      <th>Country</th>\n",
       "      <th>Day Name</th>\n",
       "      <th>Month</th>\n",
       "      <th>Season</th>\n",
       "      <th>Seconds</th>\n",
       "    </tr>\n",
       "  </thead>\n",
       "  <tbody>\n",
       "    <tr>\n",
       "      <th>0</th>\n",
       "      <td>Alex</td>\n",
       "      <td>2014-04-02 15:36:00+00:00</td>\n",
       "      <td>0 days 00:07:27</td>\n",
       "      <td>3</td>\n",
       "      <td>NaN</td>\n",
       "      <td>Apple iPad mini</td>\n",
       "      <td>US (United States)</td>\n",
       "      <td>Wednesday</td>\n",
       "      <td>April</td>\n",
       "      <td>spring</td>\n",
       "      <td>447</td>\n",
       "    </tr>\n",
       "    <tr>\n",
       "      <th>1</th>\n",
       "      <td>Alex</td>\n",
       "      <td>2022-06-04 03:49:00+00:00</td>\n",
       "      <td>0 days 02:01:07</td>\n",
       "      <td>42</td>\n",
       "      <td>NaN</td>\n",
       "      <td>TCL Malone HDR10 Smart TV</td>\n",
       "      <td>US (United States)</td>\n",
       "      <td>Saturday</td>\n",
       "      <td>June</td>\n",
       "      <td>summer</td>\n",
       "      <td>7267</td>\n",
       "    </tr>\n",
       "    <tr>\n",
       "      <th>2</th>\n",
       "      <td>Alex</td>\n",
       "      <td>2018-12-18 22:25:00+00:00</td>\n",
       "      <td>0 days 00:16:51</td>\n",
       "      <td>42</td>\n",
       "      <td>NaN</td>\n",
       "      <td>DefaultWidevineAndroidPhone</td>\n",
       "      <td>US (United States)</td>\n",
       "      <td>Tuesday</td>\n",
       "      <td>December</td>\n",
       "      <td>winter</td>\n",
       "      <td>1011</td>\n",
       "    </tr>\n",
       "    <tr>\n",
       "      <th>3</th>\n",
       "      <td>Alex</td>\n",
       "      <td>2018-12-18 22:05:00+00:00</td>\n",
       "      <td>0 days 00:13:55</td>\n",
       "      <td>42</td>\n",
       "      <td>NaN</td>\n",
       "      <td>DefaultWidevineAndroidPhone</td>\n",
       "      <td>US (United States)</td>\n",
       "      <td>Tuesday</td>\n",
       "      <td>December</td>\n",
       "      <td>winter</td>\n",
       "      <td>835</td>\n",
       "    </tr>\n",
       "    <tr>\n",
       "      <th>4</th>\n",
       "      <td>Alex</td>\n",
       "      <td>2018-12-18 21:58:00+00:00</td>\n",
       "      <td>0 days 00:04:01</td>\n",
       "      <td>42</td>\n",
       "      <td>NaN</td>\n",
       "      <td>DefaultWidevineAndroidPhone</td>\n",
       "      <td>US (United States)</td>\n",
       "      <td>Tuesday</td>\n",
       "      <td>December</td>\n",
       "      <td>winter</td>\n",
       "      <td>241</td>\n",
       "    </tr>\n",
       "  </tbody>\n",
       "</table>\n",
       "</div>"
      ],
      "text/plain": [
       "  Profile Name                Start Time        Duration Title  \\\n",
       "0         Alex 2014-04-02 15:36:00+00:00 0 days 00:07:27     3   \n",
       "1         Alex 2022-06-04 03:49:00+00:00 0 days 02:01:07    42   \n",
       "2         Alex 2018-12-18 22:25:00+00:00 0 days 00:16:51    42   \n",
       "3         Alex 2018-12-18 22:05:00+00:00 0 days 00:13:55    42   \n",
       "4         Alex 2018-12-18 21:58:00+00:00 0 days 00:04:01    42   \n",
       "\n",
       "  Supplemental Video Type                  Device Type             Country  \\\n",
       "0                     NaN              Apple iPad mini  US (United States)   \n",
       "1                     NaN    TCL Malone HDR10 Smart TV  US (United States)   \n",
       "2                     NaN  DefaultWidevineAndroidPhone  US (United States)   \n",
       "3                     NaN  DefaultWidevineAndroidPhone  US (United States)   \n",
       "4                     NaN  DefaultWidevineAndroidPhone  US (United States)   \n",
       "\n",
       "    Day Name     Month  Season  Seconds  \n",
       "0  Wednesday     April  spring      447  \n",
       "1   Saturday      June  summer     7267  \n",
       "2    Tuesday  December  winter     1011  \n",
       "3    Tuesday  December  winter      835  \n",
       "4    Tuesday  December  winter      241  "
      ]
     },
     "execution_count": 16,
     "metadata": {},
     "output_type": "execute_result"
    }
   ],
   "source": [
    "df.head()"
   ]
  },
  {
   "cell_type": "markdown",
   "metadata": {},
   "source": [
    "### Clean Title column"
   ]
  },
  {
   "cell_type": "code",
   "execution_count": 17,
   "metadata": {},
   "outputs": [
    {
     "data": {
      "text/html": [
       "<div>\n",
       "<style scoped>\n",
       "    .dataframe tbody tr th:only-of-type {\n",
       "        vertical-align: middle;\n",
       "    }\n",
       "\n",
       "    .dataframe tbody tr th {\n",
       "        vertical-align: top;\n",
       "    }\n",
       "\n",
       "    .dataframe thead th {\n",
       "        text-align: right;\n",
       "    }\n",
       "</style>\n",
       "<table border=\"1\" class=\"dataframe\">\n",
       "  <thead>\n",
       "    <tr style=\"text-align: right;\">\n",
       "      <th></th>\n",
       "      <th>Profile Name</th>\n",
       "      <th>Start Time</th>\n",
       "      <th>Duration</th>\n",
       "      <th>Title</th>\n",
       "      <th>Supplemental Video Type</th>\n",
       "      <th>Device Type</th>\n",
       "      <th>Country</th>\n",
       "      <th>Day Name</th>\n",
       "      <th>Month</th>\n",
       "      <th>Season</th>\n",
       "      <th>Seconds</th>\n",
       "      <th>Title Only</th>\n",
       "    </tr>\n",
       "  </thead>\n",
       "  <tbody>\n",
       "    <tr>\n",
       "      <th>0</th>\n",
       "      <td>Alex</td>\n",
       "      <td>2014-04-02 15:36:00+00:00</td>\n",
       "      <td>0 days 00:07:27</td>\n",
       "      <td>3</td>\n",
       "      <td>NaN</td>\n",
       "      <td>Apple iPad mini</td>\n",
       "      <td>US (United States)</td>\n",
       "      <td>Wednesday</td>\n",
       "      <td>April</td>\n",
       "      <td>spring</td>\n",
       "      <td>447</td>\n",
       "      <td>3</td>\n",
       "    </tr>\n",
       "    <tr>\n",
       "      <th>1</th>\n",
       "      <td>Alex</td>\n",
       "      <td>2022-06-04 03:49:00+00:00</td>\n",
       "      <td>0 days 02:01:07</td>\n",
       "      <td>42</td>\n",
       "      <td>NaN</td>\n",
       "      <td>TCL Malone HDR10 Smart TV</td>\n",
       "      <td>US (United States)</td>\n",
       "      <td>Saturday</td>\n",
       "      <td>June</td>\n",
       "      <td>summer</td>\n",
       "      <td>7267</td>\n",
       "      <td>42</td>\n",
       "    </tr>\n",
       "    <tr>\n",
       "      <th>2</th>\n",
       "      <td>Alex</td>\n",
       "      <td>2018-12-18 22:25:00+00:00</td>\n",
       "      <td>0 days 00:16:51</td>\n",
       "      <td>42</td>\n",
       "      <td>NaN</td>\n",
       "      <td>DefaultWidevineAndroidPhone</td>\n",
       "      <td>US (United States)</td>\n",
       "      <td>Tuesday</td>\n",
       "      <td>December</td>\n",
       "      <td>winter</td>\n",
       "      <td>1011</td>\n",
       "      <td>42</td>\n",
       "    </tr>\n",
       "    <tr>\n",
       "      <th>3</th>\n",
       "      <td>Alex</td>\n",
       "      <td>2018-12-18 22:05:00+00:00</td>\n",
       "      <td>0 days 00:13:55</td>\n",
       "      <td>42</td>\n",
       "      <td>NaN</td>\n",
       "      <td>DefaultWidevineAndroidPhone</td>\n",
       "      <td>US (United States)</td>\n",
       "      <td>Tuesday</td>\n",
       "      <td>December</td>\n",
       "      <td>winter</td>\n",
       "      <td>835</td>\n",
       "      <td>42</td>\n",
       "    </tr>\n",
       "    <tr>\n",
       "      <th>4</th>\n",
       "      <td>Alex</td>\n",
       "      <td>2018-12-18 21:58:00+00:00</td>\n",
       "      <td>0 days 00:04:01</td>\n",
       "      <td>42</td>\n",
       "      <td>NaN</td>\n",
       "      <td>DefaultWidevineAndroidPhone</td>\n",
       "      <td>US (United States)</td>\n",
       "      <td>Tuesday</td>\n",
       "      <td>December</td>\n",
       "      <td>winter</td>\n",
       "      <td>241</td>\n",
       "      <td>42</td>\n",
       "    </tr>\n",
       "  </tbody>\n",
       "</table>\n",
       "</div>"
      ],
      "text/plain": [
       "  Profile Name                Start Time        Duration Title  \\\n",
       "0         Alex 2014-04-02 15:36:00+00:00 0 days 00:07:27     3   \n",
       "1         Alex 2022-06-04 03:49:00+00:00 0 days 02:01:07    42   \n",
       "2         Alex 2018-12-18 22:25:00+00:00 0 days 00:16:51    42   \n",
       "3         Alex 2018-12-18 22:05:00+00:00 0 days 00:13:55    42   \n",
       "4         Alex 2018-12-18 21:58:00+00:00 0 days 00:04:01    42   \n",
       "\n",
       "  Supplemental Video Type                  Device Type             Country  \\\n",
       "0                     NaN              Apple iPad mini  US (United States)   \n",
       "1                     NaN    TCL Malone HDR10 Smart TV  US (United States)   \n",
       "2                     NaN  DefaultWidevineAndroidPhone  US (United States)   \n",
       "3                     NaN  DefaultWidevineAndroidPhone  US (United States)   \n",
       "4                     NaN  DefaultWidevineAndroidPhone  US (United States)   \n",
       "\n",
       "    Day Name     Month  Season  Seconds Title Only  \n",
       "0  Wednesday     April  spring      447          3  \n",
       "1   Saturday      June  summer     7267         42  \n",
       "2    Tuesday  December  winter     1011         42  \n",
       "3    Tuesday  December  winter      835         42  \n",
       "4    Tuesday  December  winter      241         42  "
      ]
     },
     "execution_count": 17,
     "metadata": {},
     "output_type": "execute_result"
    }
   ],
   "source": [
    "df['Title Only'] = df['Title'].str.split(':').str[0]\n",
    "\n",
    "df.head()"
   ]
  },
  {
   "cell_type": "code",
   "execution_count": 18,
   "metadata": {},
   "outputs": [
    {
     "data": {
      "text/plain": [
       "Suits                                1578\n",
       "Star Trek                             887\n",
       "Glee                                  771\n",
       "Supernatural                          671\n",
       "Jurassic World Camp Cretaceous        664\n",
       "                                     ... \n",
       "Kung Fu Panda 2_hook_primary_16x9       1\n",
       "Blood Father_hook_03_16x9               1\n",
       "One Day on Earth                        1\n",
       "Teenage                                 1\n",
       "Chrome and Hot Leather                  1\n",
       "Name: Title Only, Length: 4430, dtype: int64"
      ]
     },
     "execution_count": 18,
     "metadata": {},
     "output_type": "execute_result"
    }
   ],
   "source": [
    "df['Title Only'].value_counts()"
   ]
  },
  {
   "cell_type": "markdown",
   "metadata": {},
   "source": [
    "Remove Supplemental Video Type column and rows that are not Null"
   ]
  },
  {
   "cell_type": "code",
   "execution_count": 19,
   "metadata": {},
   "outputs": [
    {
     "name": "stdout",
     "output_type": "stream",
     "text": [
      "<class 'pandas.core.frame.DataFrame'>\n",
      "RangeIndex: 42959 entries, 0 to 42958\n",
      "Data columns (total 12 columns):\n",
      " #   Column                   Non-Null Count  Dtype              \n",
      "---  ------                   --------------  -----              \n",
      " 0   Profile Name             42959 non-null  object             \n",
      " 1   Start Time               42959 non-null  datetime64[ns, UTC]\n",
      " 2   Duration                 42959 non-null  timedelta64[ns]    \n",
      " 3   Title                    42959 non-null  object             \n",
      " 4   Supplemental Video Type  2681 non-null   object             \n",
      " 5   Device Type              42959 non-null  object             \n",
      " 6   Country                  42959 non-null  object             \n",
      " 7   Day Name                 42959 non-null  category           \n",
      " 8   Month                    42959 non-null  object             \n",
      " 9   Season                   42959 non-null  object             \n",
      " 10  Seconds                  42959 non-null  int32              \n",
      " 11  Title Only               42959 non-null  object             \n",
      "dtypes: category(1), datetime64[ns, UTC](1), int32(1), object(8), timedelta64[ns](1)\n",
      "memory usage: 3.5+ MB\n"
     ]
    }
   ],
   "source": [
    "df.info()"
   ]
  },
  {
   "cell_type": "code",
   "execution_count": 20,
   "metadata": {},
   "outputs": [
    {
     "name": "stdout",
     "output_type": "stream",
     "text": [
      "<class 'pandas.core.frame.DataFrame'>\n",
      "Int64Index: 40278 entries, 0 to 42958\n",
      "Data columns (total 12 columns):\n",
      " #   Column                   Non-Null Count  Dtype              \n",
      "---  ------                   --------------  -----              \n",
      " 0   Profile Name             40278 non-null  object             \n",
      " 1   Start Time               40278 non-null  datetime64[ns, UTC]\n",
      " 2   Duration                 40278 non-null  timedelta64[ns]    \n",
      " 3   Title                    40278 non-null  object             \n",
      " 4   Supplemental Video Type  0 non-null      object             \n",
      " 5   Device Type              40278 non-null  object             \n",
      " 6   Country                  40278 non-null  object             \n",
      " 7   Day Name                 40278 non-null  category           \n",
      " 8   Month                    40278 non-null  object             \n",
      " 9   Season                   40278 non-null  object             \n",
      " 10  Seconds                  40278 non-null  int32              \n",
      " 11  Title Only               40278 non-null  object             \n",
      "dtypes: category(1), datetime64[ns, UTC](1), int32(1), object(8), timedelta64[ns](1)\n",
      "memory usage: 3.6+ MB\n"
     ]
    }
   ],
   "source": [
    "df_f1 = df[df['Supplemental Video Type'].isnull()]\n",
    "\n",
    "df_f1.info()"
   ]
  },
  {
   "cell_type": "code",
   "execution_count": 21,
   "metadata": {},
   "outputs": [
    {
     "name": "stderr",
     "output_type": "stream",
     "text": [
      "C:\\Users\\irama\\anaconda3\\anaconda\\lib\\site-packages\\pandas\\core\\frame.py:4163: SettingWithCopyWarning: \n",
      "A value is trying to be set on a copy of a slice from a DataFrame\n",
      "\n",
      "See the caveats in the documentation: https://pandas.pydata.org/pandas-docs/stable/user_guide/indexing.html#returning-a-view-versus-a-copy\n",
      "  return super().drop(\n"
     ]
    }
   ],
   "source": [
    "df_f1.drop('Supplemental Video Type', axis=1, inplace=True)"
   ]
  },
  {
   "cell_type": "code",
   "execution_count": 22,
   "metadata": {},
   "outputs": [
    {
     "name": "stdout",
     "output_type": "stream",
     "text": [
      "<class 'pandas.core.frame.DataFrame'>\n",
      "Int64Index: 40278 entries, 0 to 42958\n",
      "Data columns (total 11 columns):\n",
      " #   Column        Non-Null Count  Dtype              \n",
      "---  ------        --------------  -----              \n",
      " 0   Profile Name  40278 non-null  object             \n",
      " 1   Start Time    40278 non-null  datetime64[ns, UTC]\n",
      " 2   Duration      40278 non-null  timedelta64[ns]    \n",
      " 3   Title         40278 non-null  object             \n",
      " 4   Device Type   40278 non-null  object             \n",
      " 5   Country       40278 non-null  object             \n",
      " 6   Day Name      40278 non-null  category           \n",
      " 7   Month         40278 non-null  object             \n",
      " 8   Season        40278 non-null  object             \n",
      " 9   Seconds       40278 non-null  int32              \n",
      " 10  Title Only    40278 non-null  object             \n",
      "dtypes: category(1), datetime64[ns, UTC](1), int32(1), object(7), timedelta64[ns](1)\n",
      "memory usage: 3.3+ MB\n"
     ]
    }
   ],
   "source": [
    "df_f1.info()"
   ]
  },
  {
   "cell_type": "markdown",
   "metadata": {},
   "source": [
    "Create column that identifies if a title is a show or movie for later analysis"
   ]
  },
  {
   "cell_type": "code",
   "execution_count": 23,
   "metadata": {},
   "outputs": [],
   "source": [
    "# create get show_movie function\n",
    "\n",
    "def show_movie(data):\n",
    "    \"\"\"\n",
    "    classifies a title as show or movie based on the following:\n",
    "    \n",
    "    if title contains 'season','episode', or 'volume'\n",
    "    return 'show'\n",
    "    else 'movie'\n",
    "    \"\"\"\n",
    "    title_lower = data.lower()\n",
    "    \n",
    "    if 'season' in title_lower or 'episode' in title_lower or 'volume' in title_lower:\n",
    "        return 'show'\n",
    "    else:\n",
    "        return 'movie'"
   ]
  },
  {
   "cell_type": "code",
   "execution_count": 24,
   "metadata": {},
   "outputs": [
    {
     "name": "stderr",
     "output_type": "stream",
     "text": [
      "<ipython-input-24-7b2e018bd2c9>:1: SettingWithCopyWarning: \n",
      "A value is trying to be set on a copy of a slice from a DataFrame.\n",
      "Try using .loc[row_indexer,col_indexer] = value instead\n",
      "\n",
      "See the caveats in the documentation: https://pandas.pydata.org/pandas-docs/stable/user_guide/indexing.html#returning-a-view-versus-a-copy\n",
      "  df_f1['Video Type'] = df_f1['Title'].apply(show_movie)\n"
     ]
    },
    {
     "data": {
      "text/html": [
       "<div>\n",
       "<style scoped>\n",
       "    .dataframe tbody tr th:only-of-type {\n",
       "        vertical-align: middle;\n",
       "    }\n",
       "\n",
       "    .dataframe tbody tr th {\n",
       "        vertical-align: top;\n",
       "    }\n",
       "\n",
       "    .dataframe thead th {\n",
       "        text-align: right;\n",
       "    }\n",
       "</style>\n",
       "<table border=\"1\" class=\"dataframe\">\n",
       "  <thead>\n",
       "    <tr style=\"text-align: right;\">\n",
       "      <th></th>\n",
       "      <th>Profile Name</th>\n",
       "      <th>Start Time</th>\n",
       "      <th>Duration</th>\n",
       "      <th>Title</th>\n",
       "      <th>Device Type</th>\n",
       "      <th>Country</th>\n",
       "      <th>Day Name</th>\n",
       "      <th>Month</th>\n",
       "      <th>Season</th>\n",
       "      <th>Seconds</th>\n",
       "      <th>Title Only</th>\n",
       "      <th>Video Type</th>\n",
       "    </tr>\n",
       "  </thead>\n",
       "  <tbody>\n",
       "    <tr>\n",
       "      <th>0</th>\n",
       "      <td>Alex</td>\n",
       "      <td>2014-04-02 15:36:00+00:00</td>\n",
       "      <td>0 days 00:07:27</td>\n",
       "      <td>3</td>\n",
       "      <td>Apple iPad mini</td>\n",
       "      <td>US (United States)</td>\n",
       "      <td>Wednesday</td>\n",
       "      <td>April</td>\n",
       "      <td>spring</td>\n",
       "      <td>447</td>\n",
       "      <td>3</td>\n",
       "      <td>movie</td>\n",
       "    </tr>\n",
       "    <tr>\n",
       "      <th>1</th>\n",
       "      <td>Alex</td>\n",
       "      <td>2022-06-04 03:49:00+00:00</td>\n",
       "      <td>0 days 02:01:07</td>\n",
       "      <td>42</td>\n",
       "      <td>TCL Malone HDR10 Smart TV</td>\n",
       "      <td>US (United States)</td>\n",
       "      <td>Saturday</td>\n",
       "      <td>June</td>\n",
       "      <td>summer</td>\n",
       "      <td>7267</td>\n",
       "      <td>42</td>\n",
       "      <td>movie</td>\n",
       "    </tr>\n",
       "    <tr>\n",
       "      <th>2</th>\n",
       "      <td>Alex</td>\n",
       "      <td>2018-12-18 22:25:00+00:00</td>\n",
       "      <td>0 days 00:16:51</td>\n",
       "      <td>42</td>\n",
       "      <td>DefaultWidevineAndroidPhone</td>\n",
       "      <td>US (United States)</td>\n",
       "      <td>Tuesday</td>\n",
       "      <td>December</td>\n",
       "      <td>winter</td>\n",
       "      <td>1011</td>\n",
       "      <td>42</td>\n",
       "      <td>movie</td>\n",
       "    </tr>\n",
       "    <tr>\n",
       "      <th>3</th>\n",
       "      <td>Alex</td>\n",
       "      <td>2018-12-18 22:05:00+00:00</td>\n",
       "      <td>0 days 00:13:55</td>\n",
       "      <td>42</td>\n",
       "      <td>DefaultWidevineAndroidPhone</td>\n",
       "      <td>US (United States)</td>\n",
       "      <td>Tuesday</td>\n",
       "      <td>December</td>\n",
       "      <td>winter</td>\n",
       "      <td>835</td>\n",
       "      <td>42</td>\n",
       "      <td>movie</td>\n",
       "    </tr>\n",
       "    <tr>\n",
       "      <th>4</th>\n",
       "      <td>Alex</td>\n",
       "      <td>2018-12-18 21:58:00+00:00</td>\n",
       "      <td>0 days 00:04:01</td>\n",
       "      <td>42</td>\n",
       "      <td>DefaultWidevineAndroidPhone</td>\n",
       "      <td>US (United States)</td>\n",
       "      <td>Tuesday</td>\n",
       "      <td>December</td>\n",
       "      <td>winter</td>\n",
       "      <td>241</td>\n",
       "      <td>42</td>\n",
       "      <td>movie</td>\n",
       "    </tr>\n",
       "  </tbody>\n",
       "</table>\n",
       "</div>"
      ],
      "text/plain": [
       "  Profile Name                Start Time        Duration Title  \\\n",
       "0         Alex 2014-04-02 15:36:00+00:00 0 days 00:07:27     3   \n",
       "1         Alex 2022-06-04 03:49:00+00:00 0 days 02:01:07    42   \n",
       "2         Alex 2018-12-18 22:25:00+00:00 0 days 00:16:51    42   \n",
       "3         Alex 2018-12-18 22:05:00+00:00 0 days 00:13:55    42   \n",
       "4         Alex 2018-12-18 21:58:00+00:00 0 days 00:04:01    42   \n",
       "\n",
       "                   Device Type             Country   Day Name     Month  \\\n",
       "0              Apple iPad mini  US (United States)  Wednesday     April   \n",
       "1    TCL Malone HDR10 Smart TV  US (United States)   Saturday      June   \n",
       "2  DefaultWidevineAndroidPhone  US (United States)    Tuesday  December   \n",
       "3  DefaultWidevineAndroidPhone  US (United States)    Tuesday  December   \n",
       "4  DefaultWidevineAndroidPhone  US (United States)    Tuesday  December   \n",
       "\n",
       "   Season  Seconds Title Only Video Type  \n",
       "0  spring      447          3      movie  \n",
       "1  summer     7267         42      movie  \n",
       "2  winter     1011         42      movie  \n",
       "3  winter      835         42      movie  \n",
       "4  winter      241         42      movie  "
      ]
     },
     "execution_count": 24,
     "metadata": {},
     "output_type": "execute_result"
    }
   ],
   "source": [
    "df_f1['Video Type'] = df_f1['Title'].apply(show_movie)\n",
    "\n",
    "df_f1.head()"
   ]
  },
  {
   "cell_type": "code",
   "execution_count": 25,
   "metadata": {},
   "outputs": [
    {
     "data": {
      "text/plain": [
       "show     32534\n",
       "movie     7744\n",
       "Name: Video Type, dtype: int64"
      ]
     },
     "execution_count": 25,
     "metadata": {},
     "output_type": "execute_result"
    }
   ],
   "source": [
    "df_f1['Video Type'].value_counts()"
   ]
  },
  {
   "cell_type": "markdown",
   "metadata": {},
   "source": [
    "#### Clean up Device type column\n",
    "\n",
    "Compress column to the following values\n",
    "*  Laptop/Desktop\n",
    "*  Phone\n",
    "*  Tablet\n",
    "*  Gaming"
   ]
  },
  {
   "cell_type": "code",
   "execution_count": 26,
   "metadata": {},
   "outputs": [
    {
     "name": "stdout",
     "output_type": "stream",
     "text": [
      "['Apple iPad mini' 'TCL Malone HDR10 Smart TV'\n",
      " 'DefaultWidevineAndroidPhone' 'Chrome OS (Cadmium)'\n",
      " 'Firefox PC (Cadmium)' 'Amazon TVAFTBL Smart TV' 'PC'\n",
      " 'Microsoft Xbox 360' 'Roku Midland Smart TV'\n",
      " 'Apple iPad 6th Gen 9.7 (Wi-Fi) iPad' 'Chrome PC (Cadmium)'\n",
      " 'Vizio VIA DTV MTK 5396 Foxconn' 'Vizio MT5580-Amtran-1H2013 Smart TV'\n",
      " 'Cox COX X1 MIPS WITH SAGE' 'Wii Bowser' 'Apple iPhone 4 with GSM'\n",
      " 'Android DefaultWidevineL3Phone Android Phone (samsung_SM-G531H)'\n",
      " 'Android DefaultWidevineL3Phone Android Phone'\n",
      " 'DefaultWidevineAndroidPhone (samsung_SM-G920T)' 'Mobile'\n",
      " 'Safari MAC (Cadmium)' 'Apple iPhone 13 Pro' 'Sony PS4'\n",
      " 'Netflix Windows App - Cadmium Windows Mobile'\n",
      " 'Google Chromecast V5 Streaming Stick'\n",
      " 'Contour TV (Cox COX X1 MIPS NO SAGE)' 'Apple iPhone XR'\n",
      " 'DefaultWidevineAndroidTablets' '2013 Sony BD players BX Series '\n",
      " 'iPhone 5S GSM' 'iPhone 4 GSM Rev A'\n",
      " 'Amazon Fire TV Stick 2020 Lite Streaming Stick'\n",
      " 'Vizio MG186 MT5597DV CAST/HYBRID INX Smart TV'\n",
      " 'Vizio MG142 TPV E MT5580 Smart TV' 'Apple iPhone XS Max (CDMA)'\n",
      " 'Apple iPhone 6s' 'Vizio MG243 SX7 10-UI Smart TV'\n",
      " 'Samsung 2015 MTK8553 BD' 'LG LG 2017 LG M16 SoC HOTEL STB Set Top Box'\n",
      " 'Windows 8 x64 devices' 'Samsung 2014 MStar DTV' 'Apple iPhone 4S'\n",
      " 'Apple iPhone 6' 'Google Chromecast streaming stick'\n",
      " 'Apple iPad 2 3G GSM' 'Window 8 ARM devices'\n",
      " 'Android DefaultWidevineL3Phone Android Phone (samsung_SAMSUNG-SM-J320A)'\n",
      " 'DefaultWidevineAndroidPhone (samsung_SAMSUNG-SM-G930A)'\n",
      " 'Apple iPhone 5 with GSM' 'Apple iPod Touch 4G' 'Apple iPod Touch 5G'\n",
      " 'Edge (Cadmium)' 'Android DefaultWidevineL3Tablet Android Tablet'\n",
      " 'iPad Air Wi-Fi'\n",
      " 'Android DefaultWidevineL3Tablet Android Tablet (Ematic_PBSKD12)'\n",
      " 'iPhone 5C US' 'iPad Air 2 Cellular'\n",
      " 'Vizio MG186 MT5597DV CAST INX Smart TV'\n",
      " 'Vizio MG243 WISTRN SX7-CAST Smart TV' 'Roku Liberty Smart TV'\n",
      " 'Apple iPhone 7 (GSM)'\n",
      " 'Android DefaultWidevineL3Tablet Android Tablet (Alco_RCT6773W22B)'\n",
      " 'LG 2012 MTK Smart TV' 'Apple iPhone 3GS']\n"
     ]
    }
   ],
   "source": [
    "distinct_devices = df_f1['Device Type'].unique()\n",
    "print(distinct_devices)"
   ]
  },
  {
   "cell_type": "markdown",
   "metadata": {},
   "source": [
    "Create function to summarize device type"
   ]
  },
  {
   "cell_type": "code",
   "execution_count": 27,
   "metadata": {},
   "outputs": [],
   "source": [
    "import re"
   ]
  },
  {
   "cell_type": "code",
   "execution_count": 28,
   "metadata": {},
   "outputs": [],
   "source": [
    "def dev_type(device):\n",
    "    \"\"\"\n",
    "    This function groups device names into 5 types: mobile, tablet, computer, gaming, tv\n",
    "    \n",
    "    We will use the following conditions to filter down\n",
    "    \n",
    "    Mobile: iphone, android, ipod, mobile\n",
    "    Tablet: ipad, tablet\n",
    "    Computer: chrome, cox, edge, windows, pc\n",
    "    Gaming: xbox, ps4, wii\n",
    "    TV: tv\n",
    "    Other: everything else if any\n",
    "    \n",
    "    \"\"\"\n",
    "    \n",
    "    device_lower = device.lower() \n",
    "    \n",
    "    mobile_patt = [r'.*iphone.*',r'.*android.*',r'.*ipod.*',r'.*mobile.*']\n",
    "    tablet_patt = [r'.*ipad.*',r'.*tablet.*']\n",
    "    computer_patt = [r'.*chrome.*',r'.*cox.*',r'.*edge.*',r'.*windows.*',r'.*pc.*']\n",
    "    gaming_patt = [r'.*xbox.*',r'.*ps4.*',r'.*wii.*']\n",
    "    tv_patt = [r'.*tv.*']\n",
    "    \n",
    "    # MOBILE\n",
    "    for pattern in mobile_patt:\n",
    "        if re.search(pattern, device_lower):\n",
    "            return 'mobile'\n",
    "    # TABLET\n",
    "    for pattern in tablet_patt:\n",
    "        if re.search(pattern, device_lower):\n",
    "            return 'tablet'\n",
    "    # COMPUTER    \n",
    "    for pattern in computer_patt:\n",
    "        if re.search(pattern, device_lower):\n",
    "            return 'computer'\n",
    "    # GAMING    \n",
    "    for pattern in gaming_patt:\n",
    "        if re.search(pattern, device_lower):\n",
    "            return 'gaming'\n",
    "    # TV    \n",
    "    for pattern in tv_patt:\n",
    "        if re.search(pattern, device_lower):\n",
    "            return 'tv'\n",
    "            \n",
    "        \n",
    "    return 'other'"
   ]
  },
  {
   "cell_type": "code",
   "execution_count": 29,
   "metadata": {},
   "outputs": [
    {
     "name": "stderr",
     "output_type": "stream",
     "text": [
      "<ipython-input-29-6e7ffd8f6f11>:1: SettingWithCopyWarning: \n",
      "A value is trying to be set on a copy of a slice from a DataFrame.\n",
      "Try using .loc[row_indexer,col_indexer] = value instead\n",
      "\n",
      "See the caveats in the documentation: https://pandas.pydata.org/pandas-docs/stable/user_guide/indexing.html#returning-a-view-versus-a-copy\n",
      "  df_f1['Device Group'] = df_f1['Device Type'].apply(dev_type)\n"
     ]
    }
   ],
   "source": [
    "df_f1['Device Group'] = df_f1['Device Type'].apply(dev_type)"
   ]
  },
  {
   "cell_type": "code",
   "execution_count": 30,
   "metadata": {},
   "outputs": [
    {
     "data": {
      "text/plain": [
       "computer    15317\n",
       "mobile      10372\n",
       "tv           8506\n",
       "tablet       3537\n",
       "gaming       1735\n",
       "other         811\n",
       "Name: Device Group, dtype: int64"
      ]
     },
     "execution_count": 30,
     "metadata": {},
     "output_type": "execute_result"
    }
   ],
   "source": [
    "df_f1['Device Group'].value_counts()"
   ]
  },
  {
   "cell_type": "markdown",
   "metadata": {},
   "source": [
    "## Visually explore data to identify what else needs to be cleaned up"
   ]
  },
  {
   "cell_type": "code",
   "execution_count": 31,
   "metadata": {},
   "outputs": [],
   "source": [
    "import seaborn as sns\n",
    "import matplotlib.pyplot as plt\n",
    "\n",
    "%matplotlib inline"
   ]
  },
  {
   "cell_type": "code",
   "execution_count": 32,
   "metadata": {},
   "outputs": [
    {
     "data": {
      "text/html": [
       "<div>\n",
       "<style scoped>\n",
       "    .dataframe tbody tr th:only-of-type {\n",
       "        vertical-align: middle;\n",
       "    }\n",
       "\n",
       "    .dataframe tbody tr th {\n",
       "        vertical-align: top;\n",
       "    }\n",
       "\n",
       "    .dataframe thead th {\n",
       "        text-align: right;\n",
       "    }\n",
       "</style>\n",
       "<table border=\"1\" class=\"dataframe\">\n",
       "  <thead>\n",
       "    <tr style=\"text-align: right;\">\n",
       "      <th></th>\n",
       "      <th>Duration</th>\n",
       "      <th>Seconds</th>\n",
       "    </tr>\n",
       "  </thead>\n",
       "  <tbody>\n",
       "    <tr>\n",
       "      <th>count</th>\n",
       "      <td>40278</td>\n",
       "      <td>40278.000000</td>\n",
       "    </tr>\n",
       "    <tr>\n",
       "      <th>mean</th>\n",
       "      <td>0 days 00:24:22.194324445</td>\n",
       "      <td>1462.194324</td>\n",
       "    </tr>\n",
       "    <tr>\n",
       "      <th>std</th>\n",
       "      <td>0 days 00:23:05.545316318</td>\n",
       "      <td>1385.545316</td>\n",
       "    </tr>\n",
       "    <tr>\n",
       "      <th>min</th>\n",
       "      <td>0 days 00:00:01</td>\n",
       "      <td>1.000000</td>\n",
       "    </tr>\n",
       "    <tr>\n",
       "      <th>15%</th>\n",
       "      <td>0 days 00:02:15</td>\n",
       "      <td>135.000000</td>\n",
       "    </tr>\n",
       "    <tr>\n",
       "      <th>25%</th>\n",
       "      <td>0 days 00:06:33.250000</td>\n",
       "      <td>393.250000</td>\n",
       "    </tr>\n",
       "    <tr>\n",
       "      <th>50%</th>\n",
       "      <td>0 days 00:21:01</td>\n",
       "      <td>1261.000000</td>\n",
       "    </tr>\n",
       "    <tr>\n",
       "      <th>75%</th>\n",
       "      <td>0 days 00:38:31</td>\n",
       "      <td>2311.000000</td>\n",
       "    </tr>\n",
       "    <tr>\n",
       "      <th>90%</th>\n",
       "      <td>0 days 00:47:09</td>\n",
       "      <td>2829.000000</td>\n",
       "    </tr>\n",
       "    <tr>\n",
       "      <th>95%</th>\n",
       "      <td>0 days 01:09:32.150000</td>\n",
       "      <td>4172.150000</td>\n",
       "    </tr>\n",
       "    <tr>\n",
       "      <th>max</th>\n",
       "      <td>0 days 03:53:58</td>\n",
       "      <td>14038.000000</td>\n",
       "    </tr>\n",
       "  </tbody>\n",
       "</table>\n",
       "</div>"
      ],
      "text/plain": [
       "                        Duration       Seconds\n",
       "count                      40278  40278.000000\n",
       "mean   0 days 00:24:22.194324445   1462.194324\n",
       "std    0 days 00:23:05.545316318   1385.545316\n",
       "min              0 days 00:00:01      1.000000\n",
       "15%              0 days 00:02:15    135.000000\n",
       "25%       0 days 00:06:33.250000    393.250000\n",
       "50%              0 days 00:21:01   1261.000000\n",
       "75%              0 days 00:38:31   2311.000000\n",
       "90%              0 days 00:47:09   2829.000000\n",
       "95%       0 days 01:09:32.150000   4172.150000\n",
       "max              0 days 03:53:58  14038.000000"
      ]
     },
     "execution_count": 32,
     "metadata": {},
     "output_type": "execute_result"
    }
   ],
   "source": [
    "df_f1.describe(percentiles=[.15,.25,.5,.75,.90,.95,])"
   ]
  },
  {
   "cell_type": "code",
   "execution_count": 33,
   "metadata": {},
   "outputs": [
    {
     "data": {
      "text/html": [
       "<div>\n",
       "<style scoped>\n",
       "    .dataframe tbody tr th:only-of-type {\n",
       "        vertical-align: middle;\n",
       "    }\n",
       "\n",
       "    .dataframe tbody tr th {\n",
       "        vertical-align: top;\n",
       "    }\n",
       "\n",
       "    .dataframe thead th {\n",
       "        text-align: right;\n",
       "    }\n",
       "</style>\n",
       "<table border=\"1\" class=\"dataframe\">\n",
       "  <thead>\n",
       "    <tr style=\"text-align: right;\">\n",
       "      <th></th>\n",
       "      <th>Seconds</th>\n",
       "      <th>Count</th>\n",
       "    </tr>\n",
       "  </thead>\n",
       "  <tbody>\n",
       "    <tr>\n",
       "      <th>0</th>\n",
       "      <td>1</td>\n",
       "      <td>337</td>\n",
       "    </tr>\n",
       "    <tr>\n",
       "      <th>1</th>\n",
       "      <td>2</td>\n",
       "      <td>287</td>\n",
       "    </tr>\n",
       "    <tr>\n",
       "      <th>2</th>\n",
       "      <td>3</td>\n",
       "      <td>281</td>\n",
       "    </tr>\n",
       "    <tr>\n",
       "      <th>3</th>\n",
       "      <td>4</td>\n",
       "      <td>238</td>\n",
       "    </tr>\n",
       "    <tr>\n",
       "      <th>4</th>\n",
       "      <td>5</td>\n",
       "      <td>199</td>\n",
       "    </tr>\n",
       "  </tbody>\n",
       "</table>\n",
       "</div>"
      ],
      "text/plain": [
       "   Seconds  Count\n",
       "0        1    337\n",
       "1        2    287\n",
       "2        3    281\n",
       "3        4    238\n",
       "4        5    199"
      ]
     },
     "execution_count": 33,
     "metadata": {},
     "output_type": "execute_result"
    }
   ],
   "source": [
    "sec_dist = df_f1['Seconds'].value_counts()\n",
    "sec_dist = sec_dist.reset_index()\n",
    "\n",
    "sec_dist.columns = ['Seconds','Count']\n",
    "sec_dist.head()"
   ]
  },
  {
   "cell_type": "code",
   "execution_count": 34,
   "metadata": {},
   "outputs": [
    {
     "data": {
      "image/png": "[encoded data removed]",
      "text/plain": [
       "<Figure size 864x576 with 1 Axes>"
      ]
     },
     "metadata": {
      "needs_background": "light"
     },
     "output_type": "display_data"
    }
   ],
   "source": [
    "plt.figure(figsize=(12,8))\n",
    "\n",
    "sns.lineplot(data=sec_dist, x='Seconds',y='Count', marker='o')\n",
    "\n",
    "plt.title('Seconds Distribution')\n",
    "plt.xlabel('Seconds')\n",
    "\n",
    "plt.show()"
   ]
  },
  {
   "cell_type": "markdown",
   "metadata": {},
   "source": [
    "### Explore watch history duration"
   ]
  },
  {
   "cell_type": "code",
   "execution_count": 35,
   "metadata": {},
   "outputs": [
    {
     "name": "stdout",
     "output_type": "stream",
     "text": [
      "<class 'pandas.core.frame.DataFrame'>\n",
      "Int64Index: 31536 entries, 0 to 42958\n",
      "Data columns (total 13 columns):\n",
      " #   Column        Non-Null Count  Dtype              \n",
      "---  ------        --------------  -----              \n",
      " 0   Profile Name  31536 non-null  object             \n",
      " 1   Start Time    31536 non-null  datetime64[ns, UTC]\n",
      " 2   Duration      31536 non-null  timedelta64[ns]    \n",
      " 3   Title         31536 non-null  object             \n",
      " 4   Device Type   31536 non-null  object             \n",
      " 5   Country       31536 non-null  object             \n",
      " 6   Day Name      31536 non-null  category           \n",
      " 7   Month         31536 non-null  object             \n",
      " 8   Season        31536 non-null  object             \n",
      " 9   Seconds       31536 non-null  int32              \n",
      " 10  Title Only    31536 non-null  object             \n",
      " 11  Video Type    31536 non-null  object             \n",
      " 12  Device Group  31536 non-null  object             \n",
      "dtypes: category(1), datetime64[ns, UTC](1), int32(1), object(9), timedelta64[ns](1)\n",
      "memory usage: 3.0+ MB\n"
     ]
    }
   ],
   "source": [
    "df_f2 = df_f1[df_f1['Seconds'] >= 300]\n",
    "\n",
    "df_f2.info()"
   ]
  },
  {
   "cell_type": "code",
   "execution_count": 36,
   "metadata": {},
   "outputs": [
    {
     "data": {
      "text/html": [
       "<div>\n",
       "<style scoped>\n",
       "    .dataframe tbody tr th:only-of-type {\n",
       "        vertical-align: middle;\n",
       "    }\n",
       "\n",
       "    .dataframe tbody tr th {\n",
       "        vertical-align: top;\n",
       "    }\n",
       "\n",
       "    .dataframe thead th {\n",
       "        text-align: right;\n",
       "    }\n",
       "</style>\n",
       "<table border=\"1\" class=\"dataframe\">\n",
       "  <thead>\n",
       "    <tr style=\"text-align: right;\">\n",
       "      <th></th>\n",
       "      <th>Seconds</th>\n",
       "      <th>Count</th>\n",
       "    </tr>\n",
       "  </thead>\n",
       "  <tbody>\n",
       "    <tr>\n",
       "      <th>0</th>\n",
       "      <td>1323</td>\n",
       "      <td>116</td>\n",
       "    </tr>\n",
       "    <tr>\n",
       "      <th>1</th>\n",
       "      <td>1324</td>\n",
       "      <td>100</td>\n",
       "    </tr>\n",
       "    <tr>\n",
       "      <th>2</th>\n",
       "      <td>1286</td>\n",
       "      <td>90</td>\n",
       "    </tr>\n",
       "    <tr>\n",
       "      <th>3</th>\n",
       "      <td>1299</td>\n",
       "      <td>78</td>\n",
       "    </tr>\n",
       "    <tr>\n",
       "      <th>4</th>\n",
       "      <td>1298</td>\n",
       "      <td>73</td>\n",
       "    </tr>\n",
       "  </tbody>\n",
       "</table>\n",
       "</div>"
      ],
      "text/plain": [
       "   Seconds  Count\n",
       "0     1323    116\n",
       "1     1324    100\n",
       "2     1286     90\n",
       "3     1299     78\n",
       "4     1298     73"
      ]
     },
     "execution_count": 36,
     "metadata": {},
     "output_type": "execute_result"
    }
   ],
   "source": [
    "sec_dist2 = df_f2['Seconds'].value_counts()\n",
    "sec_dist2 = sec_dist2.reset_index()\n",
    "\n",
    "sec_dist2.columns = ['Seconds','Count']\n",
    "sec_dist2.head()"
   ]
  },
  {
   "cell_type": "code",
   "execution_count": 37,
   "metadata": {},
   "outputs": [
    {
     "data": {
      "image/png": "[encoded data removed]",
      "text/plain": [
       "<Figure size 864x576 with 1 Axes>"
      ]
     },
     "metadata": {
      "needs_background": "light"
     },
     "output_type": "display_data"
    }
   ],
   "source": [
    "plt.figure(figsize=(12,8))\n",
    "\n",
    "sns.lineplot(data=sec_dist2, x='Seconds',y='Count', marker='o')\n",
    "\n",
    "plt.title('Seconds Distribution')\n",
    "plt.xlabel('Seconds')\n",
    "\n",
    "plt.show()"
   ]
  },
  {
   "cell_type": "code",
   "execution_count": 38,
   "metadata": {},
   "outputs": [
    {
     "data": {
      "text/html": [
       "<div>\n",
       "<style scoped>\n",
       "    .dataframe tbody tr th:only-of-type {\n",
       "        vertical-align: middle;\n",
       "    }\n",
       "\n",
       "    .dataframe tbody tr th {\n",
       "        vertical-align: top;\n",
       "    }\n",
       "\n",
       "    .dataframe thead th {\n",
       "        text-align: right;\n",
       "    }\n",
       "</style>\n",
       "<table border=\"1\" class=\"dataframe\">\n",
       "  <thead>\n",
       "    <tr style=\"text-align: right;\">\n",
       "      <th></th>\n",
       "      <th>Duration</th>\n",
       "      <th>Seconds</th>\n",
       "    </tr>\n",
       "  </thead>\n",
       "  <tbody>\n",
       "    <tr>\n",
       "      <th>count</th>\n",
       "      <td>31536</td>\n",
       "      <td>31536.000000</td>\n",
       "    </tr>\n",
       "    <tr>\n",
       "      <th>mean</th>\n",
       "      <td>0 days 00:30:41.700913242</td>\n",
       "      <td>1841.700913</td>\n",
       "    </tr>\n",
       "    <tr>\n",
       "      <th>std</th>\n",
       "      <td>0 days 00:22:16.439663219</td>\n",
       "      <td>1336.439663</td>\n",
       "    </tr>\n",
       "    <tr>\n",
       "      <th>min</th>\n",
       "      <td>0 days 00:05:00</td>\n",
       "      <td>300.000000</td>\n",
       "    </tr>\n",
       "    <tr>\n",
       "      <th>25%</th>\n",
       "      <td>0 days 00:16:02</td>\n",
       "      <td>962.000000</td>\n",
       "    </tr>\n",
       "    <tr>\n",
       "      <th>50%</th>\n",
       "      <td>0 days 00:22:55</td>\n",
       "      <td>1375.000000</td>\n",
       "    </tr>\n",
       "    <tr>\n",
       "      <th>75%</th>\n",
       "      <td>0 days 00:41:40</td>\n",
       "      <td>2500.000000</td>\n",
       "    </tr>\n",
       "    <tr>\n",
       "      <th>max</th>\n",
       "      <td>0 days 03:53:58</td>\n",
       "      <td>14038.000000</td>\n",
       "    </tr>\n",
       "  </tbody>\n",
       "</table>\n",
       "</div>"
      ],
      "text/plain": [
       "                        Duration       Seconds\n",
       "count                      31536  31536.000000\n",
       "mean   0 days 00:30:41.700913242   1841.700913\n",
       "std    0 days 00:22:16.439663219   1336.439663\n",
       "min              0 days 00:05:00    300.000000\n",
       "25%              0 days 00:16:02    962.000000\n",
       "50%              0 days 00:22:55   1375.000000\n",
       "75%              0 days 00:41:40   2500.000000\n",
       "max              0 days 03:53:58  14038.000000"
      ]
     },
     "execution_count": 38,
     "metadata": {},
     "output_type": "execute_result"
    }
   ],
   "source": [
    "df_f2.describe()"
   ]
  },
  {
   "cell_type": "code",
   "execution_count": 39,
   "metadata": {},
   "outputs": [
    {
     "data": {
      "image/png": "[encoded data removed]",
      "text/plain": [
       "<Figure size 864x720 with 1 Axes>"
      ]
     },
     "metadata": {
      "needs_background": "light"
     },
     "output_type": "display_data"
    }
   ],
   "source": [
    "plt.figure(figsize=(12, 10))\n",
    "\n",
    "sns.histplot(sec_dist, x='Seconds', weights='Count', bins=range(0, int(max(sec_dist['Seconds'])) + 60, 60), kde=False, color='green', edgecolor='black')\n",
    "\n",
    "plt.title('Frequency by minutes - Histogram')\n",
    "\n",
    "plt.show()"
   ]
  },
  {
   "cell_type": "markdown",
   "metadata": {},
   "source": [
    "### Export final dataset for Tableau reporting"
   ]
  },
  {
   "cell_type": "code",
   "execution_count": 40,
   "metadata": {},
   "outputs": [],
   "source": [
    "df_f2.to_csv('2024_Netflix.csv', index=False)"
   ]
  },
  {
   "cell_type": "code",
   "execution_count": 41,
   "metadata": {},
   "outputs": [
    {
     "data": {
      "text/html": [
       "<div>\n",
       "<style scoped>\n",
       "    .dataframe tbody tr th:only-of-type {\n",
       "        vertical-align: middle;\n",
       "    }\n",
       "\n",
       "    .dataframe tbody tr th {\n",
       "        vertical-align: top;\n",
       "    }\n",
       "\n",
       "    .dataframe thead th {\n",
       "        text-align: right;\n",
       "    }\n",
       "</style>\n",
       "<table border=\"1\" class=\"dataframe\">\n",
       "  <thead>\n",
       "    <tr style=\"text-align: right;\">\n",
       "      <th></th>\n",
       "      <th>Profile Name</th>\n",
       "      <th>Start Time</th>\n",
       "      <th>Duration</th>\n",
       "      <th>Title</th>\n",
       "      <th>Device Type</th>\n",
       "      <th>Country</th>\n",
       "      <th>Day Name</th>\n",
       "      <th>Month</th>\n",
       "      <th>Season</th>\n",
       "      <th>Seconds</th>\n",
       "      <th>Title Only</th>\n",
       "      <th>Video Type</th>\n",
       "      <th>Device Group</th>\n",
       "    </tr>\n",
       "  </thead>\n",
       "  <tbody>\n",
       "    <tr>\n",
       "      <th>0</th>\n",
       "      <td>Alex</td>\n",
       "      <td>2014-04-02 15:36:00+00:00</td>\n",
       "      <td>0 days 00:07:27</td>\n",
       "      <td>3</td>\n",
       "      <td>Apple iPad mini</td>\n",
       "      <td>US (United States)</td>\n",
       "      <td>Wednesday</td>\n",
       "      <td>April</td>\n",
       "      <td>spring</td>\n",
       "      <td>447</td>\n",
       "      <td>3</td>\n",
       "      <td>movie</td>\n",
       "      <td>tablet</td>\n",
       "    </tr>\n",
       "    <tr>\n",
       "      <th>1</th>\n",
       "      <td>Alex</td>\n",
       "      <td>2022-06-04 03:49:00+00:00</td>\n",
       "      <td>0 days 02:01:07</td>\n",
       "      <td>42</td>\n",
       "      <td>TCL Malone HDR10 Smart TV</td>\n",
       "      <td>US (United States)</td>\n",
       "      <td>Saturday</td>\n",
       "      <td>June</td>\n",
       "      <td>summer</td>\n",
       "      <td>7267</td>\n",
       "      <td>42</td>\n",
       "      <td>movie</td>\n",
       "      <td>tv</td>\n",
       "    </tr>\n",
       "    <tr>\n",
       "      <th>2</th>\n",
       "      <td>Alex</td>\n",
       "      <td>2018-12-18 22:25:00+00:00</td>\n",
       "      <td>0 days 00:16:51</td>\n",
       "      <td>42</td>\n",
       "      <td>DefaultWidevineAndroidPhone</td>\n",
       "      <td>US (United States)</td>\n",
       "      <td>Tuesday</td>\n",
       "      <td>December</td>\n",
       "      <td>winter</td>\n",
       "      <td>1011</td>\n",
       "      <td>42</td>\n",
       "      <td>movie</td>\n",
       "      <td>mobile</td>\n",
       "    </tr>\n",
       "    <tr>\n",
       "      <th>3</th>\n",
       "      <td>Alex</td>\n",
       "      <td>2018-12-18 22:05:00+00:00</td>\n",
       "      <td>0 days 00:13:55</td>\n",
       "      <td>42</td>\n",
       "      <td>DefaultWidevineAndroidPhone</td>\n",
       "      <td>US (United States)</td>\n",
       "      <td>Tuesday</td>\n",
       "      <td>December</td>\n",
       "      <td>winter</td>\n",
       "      <td>835</td>\n",
       "      <td>42</td>\n",
       "      <td>movie</td>\n",
       "      <td>mobile</td>\n",
       "    </tr>\n",
       "    <tr>\n",
       "      <th>6</th>\n",
       "      <td>Alex</td>\n",
       "      <td>2018-12-18 19:48:00+00:00</td>\n",
       "      <td>0 days 00:23:32</td>\n",
       "      <td>42</td>\n",
       "      <td>Chrome OS (Cadmium)</td>\n",
       "      <td>US (United States)</td>\n",
       "      <td>Tuesday</td>\n",
       "      <td>December</td>\n",
       "      <td>winter</td>\n",
       "      <td>1412</td>\n",
       "      <td>42</td>\n",
       "      <td>movie</td>\n",
       "      <td>computer</td>\n",
       "    </tr>\n",
       "  </tbody>\n",
       "</table>\n",
       "</div>"
      ],
      "text/plain": [
       "  Profile Name                Start Time        Duration Title  \\\n",
       "0         Alex 2014-04-02 15:36:00+00:00 0 days 00:07:27     3   \n",
       "1         Alex 2022-06-04 03:49:00+00:00 0 days 02:01:07    42   \n",
       "2         Alex 2018-12-18 22:25:00+00:00 0 days 00:16:51    42   \n",
       "3         Alex 2018-12-18 22:05:00+00:00 0 days 00:13:55    42   \n",
       "6         Alex 2018-12-18 19:48:00+00:00 0 days 00:23:32    42   \n",
       "\n",
       "                   Device Type             Country   Day Name     Month  \\\n",
       "0              Apple iPad mini  US (United States)  Wednesday     April   \n",
       "1    TCL Malone HDR10 Smart TV  US (United States)   Saturday      June   \n",
       "2  DefaultWidevineAndroidPhone  US (United States)    Tuesday  December   \n",
       "3  DefaultWidevineAndroidPhone  US (United States)    Tuesday  December   \n",
       "6          Chrome OS (Cadmium)  US (United States)    Tuesday  December   \n",
       "\n",
       "   Season  Seconds Title Only Video Type Device Group  \n",
       "0  spring      447          3      movie       tablet  \n",
       "1  summer     7267         42      movie           tv  \n",
       "2  winter     1011         42      movie       mobile  \n",
       "3  winter      835         42      movie       mobile  \n",
       "6  winter     1412         42      movie     computer  "
      ]
     },
     "execution_count": 41,
     "metadata": {},
     "output_type": "execute_result"
    }
   ],
   "source": [
    "df_f2.head()"
   ]
  },
  {
   "cell_type": "code",
   "execution_count": null,
   "metadata": {},
   "outputs": [],
   "source": []
  }
 ],
 "metadata": {
  "kernelspec": {
   "display_name": "Python 3",
   "language": "python",
   "name": "python3"
  },
  "language_info": {
   "codemirror_mode": {
    "name": "ipython",
    "version": 3
   },
   "file_extension": ".py",
   "mimetype": "text/x-python",
   "name": "python",
   "nbconvert_exporter": "python",
   "pygments_lexer": "ipython3",
   "version": "3.8.5"
  }
 },
 "nbformat": 4,
 "nbformat_minor": 4
}
